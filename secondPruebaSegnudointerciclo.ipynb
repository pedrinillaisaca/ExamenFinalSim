{
  "nbformat": 4,
  "nbformat_minor": 0,
  "metadata": {
    "colab": {
      "name": "secondPruebaSegnudointerciclo.ipynb",
      "provenance": [],
      "collapsed_sections": []
    },
    "kernelspec": {
      "name": "python3",
      "display_name": "Python 3"
    },
    "language_info": {
      "name": "python"
    }
  },
  "cells": [
    {
      "cell_type": "code",
      "execution_count": null,
      "metadata": {
        "colab": {
          "base_uri": "https://localhost:8080/"
        },
        "id": "KwUUfl-8pnJc",
        "outputId": "8a904348-371d-4579-ba5d-a0a1b63e82e7"
      },
      "outputs": [
        {
          "output_type": "stream",
          "name": "stdout",
          "text": [
            "Collecting simpy\n",
            "  Downloading simpy-4.0.1-py2.py3-none-any.whl (29 kB)\n",
            "Installing collected packages: simpy\n",
            "Successfully installed simpy-4.0.1\n"
          ]
        }
      ],
      "source": [
        "!pip install simpy"
      ]
    },
    {
      "cell_type": "code",
      "source": [
        "import matplotlib.pyplot as plt\n",
        "import numpy as np \n",
        "from scipy import stats \n",
        "import simpy\n",
        "import random"
      ],
      "metadata": {
        "id": "7DEB6X7TtK6b"
      },
      "execution_count": null,
      "outputs": []
    },
    {
      "cell_type": "code",
      "source": [
        "RANGOMENOR=1\n",
        "RANGOMAYOR=3\n",
        "NUM_CAJEROS=3\n",
        "NUM_CLIENTES=1000\n",
        "MEDIA_EXPO=3\n",
        "\n",
        "# Simular que dos usuarios quieren acceder a recurso\n",
        "def recurso_cliente(env, recurso, eleccionCajero):  \n",
        "  with recurso.request() as peticion: # Genero un evento de requerimiento\n",
        "    yield peticion # Obtengo el recurso    \n",
        "    #imprimir_datos_recurso(recurso)\n",
        "    time=np.random.exponential(MEDIA_EXPO)\n",
        "    time_cajero[eleccionCajero]+=time\n",
        "    yield env.timeout(round(time,2)) # Hago uso del recuros por un tiempo de un minito\n",
        "    recurso.release(peticion) #Libero el recurso despues de su uso.\n",
        "    #print('Se libera el recurso usuario: ',env.now)\n",
        "    \n",
        "def imprimir_datos_recurso(rec):\n",
        "  print(f'{rec.count} de {rec.capacity}') \n",
        "  print(f' Usuarios que hacen uso: {rec.users}')\n",
        "  print(f' Evento de colas: {rec.queue}')\n",
        "\n",
        "def llegadaClientes(env,cajeros):   \n",
        "  recurso = simpy.Resource(env, capacity=NUM_CAJEROS)  \n",
        "  \n",
        "  for i in range(NUM_CLIENTES):\n",
        "    timeLlegada=np.random.uniform(low=RANGOMENOR, high=RANGOMAYOR)\n",
        "    yield env.timeout(round(timeLlegada,2))#tiempo en llegar los clientes\n",
        "    #yield env.timeout(0)#tiempo en llegar los clientes\n",
        "    eleccionCajero = random.choice(list(cajeros.keys()))\n",
        "    cajeros[eleccionCajero]+=1\n",
        "    env.process(recurso_cliente(env,recurso,eleccionCajero))\n",
        "    \n",
        "env = simpy.Environment()\n",
        "cajeros={'uno':0,'dos':0,'tres':0}\n",
        "time_cajero={'uno':0,'dos':0,'tres':0}\n",
        "env.process(llegadaClientes(env,cajeros))\n",
        "env.run()\n",
        "print(env.now)\n",
        "print(cajeros)\n",
        "print(time_cajero)"
      ],
      "metadata": {
        "colab": {
          "base_uri": "https://localhost:8080/"
        },
        "id": "ZHJXKQWnq-Rn",
        "outputId": "baa5a3f5-e6c4-4660-be1c-a233a3f20109"
      },
      "execution_count": null,
      "outputs": [
        {
          "output_type": "stream",
          "name": "stdout",
          "text": [
            "2003.669999999998\n",
            "{'uno': 339, 'dos': 330, 'tres': 331}\n",
            "{'uno': 1009.8446477126753, 'dos': 1002.3900652016746, 'tres': 886.5120317884898}\n"
          ]
        }
      ]
    },
    {
      "cell_type": "code",
      "source": [
        "plt.pie(list(cajeros.values()), labels=list(cajeros.keys()))\n",
        "plt.title('Numero de clientes por cajero')\n",
        "plt.show()"
      ],
      "metadata": {
        "colab": {
          "base_uri": "https://localhost:8080/",
          "height": 264
        },
        "id": "KjA1NkPNANR1",
        "outputId": "bbe0d709-bd76-4bff-f724-08e8bf17dd8c"
      },
      "execution_count": null,
      "outputs": [
        {
          "output_type": "display_data",
          "data": {
            "image/png": "[encoded data removed]",
            "text/plain": [
              "<Figure size 432x288 with 1 Axes>"
            ]
          },
          "metadata": {}
        }
      ]
    },
    {
      "cell_type": "code",
      "source": [
        "etiqueta = list(cajeros.keys())\n",
        "valores = list(cajeros.values())\n",
        "plt.bar(range(len(cajeros)), valores, align=\"center\", tick_label=etiqueta)\n",
        "plt.title(\"Numero de clientes por cajero\")\n",
        "plt.xlabel(\"Cajeros\")\n",
        "plt.ylabel(\"Nro. clientes\")\n",
        "plt.show()"
      ],
      "metadata": {
        "colab": {
          "base_uri": "https://localhost:8080/",
          "height": 295
        },
        "id": "rvNv07bcXGRH",
        "outputId": "3ce313b1-59d3-4138-954d-97c2aef56145"
      },
      "execution_count": null,
      "outputs": [
        {
          "output_type": "display_data",
          "data": {
            "image/png": "[encoded data removed]",
            "text/plain": [
              "<Figure size 432x288 with 1 Axes>"
            ]
          },
          "metadata": {
            "needs_background": "light"
          }
        }
      ]
    },
    {
      "cell_type": "code",
      "source": [
        "import pandas as pd\n",
        "df = pd.DataFrame([[key, cajeros[key]] for key in cajeros.keys()], columns=['Num cajero', 'clientes'])\n",
        "df1 = pd.DataFrame([[key, time_cajero[key]] for key in time_cajero.keys()], columns=['Num cajero', 'tiempo'])\n",
        "data0 = pd.merge(left=df,right=df1, left_on='Num cajero', right_on='Num cajero')\n",
        "data0.shape\n",
        "data0['prom_atencion']=data0['clientes']/data0['tiempo']\n",
        "data0"
      ],
      "metadata": {
        "colab": {
          "base_uri": "https://localhost:8080/",
          "height": 143
        },
        "id": "Ahv7heq-b1iz",
        "outputId": "d113871a-07bf-4a47-8765-c8a4b4414f49"
      },
      "execution_count": null,
      "outputs": [
        {
          "output_type": "execute_result",
          "data": {
            "text/html": [
              "\n",
              "  <div id=\"df-d1679670-31fb-4c5f-b3ad-e92319094d0c\">\n",
              "    <div class=\"colab-df-container\">\n",
              "      <div>\n",
              "<style scoped>\n",
              "    .dataframe tbody tr th:only-of-type {\n",
              "        vertical-align: middle;\n",
              "    }\n",
              "\n",
              "    .dataframe tbody tr th {\n",
              "        vertical-align: top;\n",
              "    }\n",
              "\n",
              "    .dataframe thead th {\n",
              "        text-align: right;\n",
              "    }\n",
              "</style>\n",
              "<table border=\"1\" class=\"dataframe\">\n",
              "  <thead>\n",
              "    <tr style=\"text-align: right;\">\n",
              "      <th></th>\n",
              "      <th>Num cajero</th>\n",
              "      <th>clientes</th>\n",
              "      <th>tiempo</th>\n",
              "      <th>prom_atencion</th>\n",
              "    </tr>\n",
              "  </thead>\n",
              "  <tbody>\n",
              "    <tr>\n",
              "      <th>0</th>\n",
              "      <td>uno</td>\n",
              "      <td>339</td>\n",
              "      <td>1009.844648</td>\n",
              "      <td>0.335695</td>\n",
              "    </tr>\n",
              "    <tr>\n",
              "      <th>1</th>\n",
              "      <td>dos</td>\n",
              "      <td>330</td>\n",
              "      <td>1002.390065</td>\n",
              "      <td>0.329213</td>\n",
              "    </tr>\n",
              "    <tr>\n",
              "      <th>2</th>\n",
              "      <td>tres</td>\n",
              "      <td>331</td>\n",
              "      <td>886.512032</td>\n",
              "      <td>0.373373</td>\n",
              "    </tr>\n",
              "  </tbody>\n",
              "</table>\n",
              "</div>\n",
              "      <button class=\"colab-df-convert\" onclick=\"convertToInteractive('df-d1679670-31fb-4c5f-b3ad-e92319094d0c')\"\n",
              "              title=\"Convert this dataframe to an interactive table.\"\n",
              "              style=\"display:none;\">\n",
              "        \n",
              "  <svg xmlns=\"http://www.w3.org/2000/svg\" height=\"24px\"viewBox=\"0 0 24 24\"\n",
              "       width=\"24px\">\n",
              "    <path d=\"M0 0h24v24H0V0z\" fill=\"none\"/>\n",
              "    <path d=\"M18.56 5.44l.94 2.06.94-2.06 2.06-.94-2.06-.94-.94-2.06-.94 2.06-2.06.94zm-11 1L8.5 8.5l.94-2.06 2.06-.94-2.06-.94L8.5 2.5l-.94 2.06-2.06.94zm10 10l.94 2.06.94-2.06 2.06-.94-2.06-.94-.94-2.06-.94 2.06-2.06.94z\"/><path d=\"M17.41 7.96l-1.37-1.37c-.4-.4-.92-.59-1.43-.59-.52 0-1.04.2-1.43.59L10.3 9.45l-7.72 7.72c-.78.78-.78 2.05 0 2.83L4 21.41c.39.39.9.59 1.41.59.51 0 1.02-.2 1.41-.59l7.78-7.78 2.81-2.81c.8-.78.8-2.07 0-2.86zM5.41 20L4 18.59l7.72-7.72 1.47 1.35L5.41 20z\"/>\n",
              "  </svg>\n",
              "      </button>\n",
              "      \n",
              "  <style>\n",
              "    .colab-df-container {\n",
              "      display:flex;\n",
              "      flex-wrap:wrap;\n",
              "      gap: 12px;\n",
              "    }\n",
              "\n",
              "    .colab-df-convert {\n",
              "      background-color: #E8F0FE;\n",
              "      border: none;\n",
              "      border-radius: 50%;\n",
              "      cursor: pointer;\n",
              "      display: none;\n",
              "      fill: #1967D2;\n",
              "      height: 32px;\n",
              "      padding: 0 0 0 0;\n",
              "      width: 32px;\n",
              "    }\n",
              "\n",
              "    .colab-df-convert:hover {\n",
              "      background-color: #E2EBFA;\n",
              "      box-shadow: 0px 1px 2px rgba(60, 64, 67, 0.3), 0px 1px 3px 1px rgba(60, 64, 67, 0.15);\n",
              "      fill: #174EA6;\n",
              "    }\n",
              "\n",
              "    [theme=dark] .colab-df-convert {\n",
              "      background-color: #3B4455;\n",
              "      fill: #D2E3FC;\n",
              "    }\n",
              "\n",
              "    [theme=dark] .colab-df-convert:hover {\n",
              "      background-color: #434B5C;\n",
              "      box-shadow: 0px 1px 3px 1px rgba(0, 0, 0, 0.15);\n",
              "      filter: drop-shadow(0px 1px 2px rgba(0, 0, 0, 0.3));\n",
              "      fill: #FFFFFF;\n",
              "    }\n",
              "  </style>\n",
              "\n",
              "      <script>\n",
              "        const buttonEl =\n",
              "          document.querySelector('#df-d1679670-31fb-4c5f-b3ad-e92319094d0c button.colab-df-convert');\n",
              "        buttonEl.style.display =\n",
              "          google.colab.kernel.accessAllowed ? 'block' : 'none';\n",
              "\n",
              "        async function convertToInteractive(key) {\n",
              "          const element = document.querySelector('#df-d1679670-31fb-4c5f-b3ad-e92319094d0c');\n",
              "          const dataTable =\n",
              "            await google.colab.kernel.invokeFunction('convertToInteractive',\n",
              "                                                     [key], {});\n",
              "          if (!dataTable) return;\n",
              "\n",
              "          const docLinkHtml = 'Like what you see? Visit the ' +\n",
              "            '<a target=\"_blank\" href=https://colab.research.google.com/notebooks/data_table.ipynb>data table notebook</a>'\n",
              "            + ' to learn more about interactive tables.';\n",
              "          element.innerHTML = '';\n",
              "          dataTable['output_type'] = 'display_data';\n",
              "          await google.colab.output.renderOutput(dataTable, element);\n",
              "          const docLink = document.createElement('div');\n",
              "          docLink.innerHTML = docLinkHtml;\n",
              "          element.appendChild(docLink);\n",
              "        }\n",
              "      </script>\n",
              "    </div>\n",
              "  </div>\n",
              "  "
            ],
            "text/plain": [
              "  Num cajero  clientes       tiempo  prom_atencion\n",
              "0        uno       339  1009.844648       0.335695\n",
              "1        dos       330  1002.390065       0.329213\n",
              "2       tres       331   886.512032       0.373373"
            ]
          },
          "metadata": {},
          "execution_count": 164
        }
      ]
    },
    {
      "cell_type": "code",
      "source": [
        "x_values = data0['Num cajero']\n",
        "y_values = data0['tiempo']\n",
        "plt.bar(x_values, y_values)\n",
        "plt.title(\"Tiempo total por cajero en atender al cliente\")\n",
        "plt.xlabel(\"Cajeros\")\n",
        "plt.ylabel(\"Tiempo total\")\n",
        "plt.show()"
      ],
      "metadata": {
        "colab": {
          "base_uri": "https://localhost:8080/",
          "height": 295
        },
        "id": "ngsOL3MtffZc",
        "outputId": "e33b270b-ff3d-460f-91f9-22374033717b"
      },
      "execution_count": null,
      "outputs": [
        {
          "output_type": "display_data",
          "data": {
            "image/png": "[encoded data removed]",
            "text/plain": [
              "<Figure size 432x288 with 1 Axes>"
            ]
          },
          "metadata": {
            "needs_background": "light"
          }
        }
      ]
    },
    {
      "cell_type": "code",
      "source": [
        "x_values = data0['Num cajero']\n",
        "y_values = data0['prom_atencion']\n",
        "plt.bar(x_values, y_values)\n",
        "plt.title(\"Promedio de tiempo de atencion por Cajero\")\n",
        "plt.xlabel(\"Cajeros\")\n",
        "plt.ylabel(\"Tiempo promedio\")\n",
        "plt.show()"
      ],
      "metadata": {
        "colab": {
          "base_uri": "https://localhost:8080/",
          "height": 295
        },
        "id": "LlpjIU45dnw_",
        "outputId": "970dada3-7b18-44b7-87e3-5e28fbe3a5bb"
      },
      "execution_count": null,
      "outputs": [
        {
          "output_type": "display_data",
          "data": {
            "image/png": "[encoded data removed]",
            "text/plain": [
              "<Figure size 432x288 with 1 Axes>"
            ]
          },
          "metadata": {
            "needs_background": "light"
          }
        }
      ]
    }
  ]
}