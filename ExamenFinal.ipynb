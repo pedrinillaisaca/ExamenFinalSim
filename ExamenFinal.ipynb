{
  "nbformat": 4,
  "nbformat_minor": 0,
  "metadata": {
    "colab": {
      "name": "ExamenFinal.ipynb",
      "provenance": [],
      "collapsed_sections": []
    },
    "kernelspec": {
      "name": "python3",
      "display_name": "Python 3"
    },
    "language_info": {
      "name": "python"
    }
  },
  "cells": [
    {
      "cell_type": "code",
      "execution_count": 1,
      "metadata": {
        "colab": {
          "base_uri": "https://localhost:8080/"
        },
        "id": "7FArnVxyKc6c",
        "outputId": "22be9520-ceb5-4584-a42e-f1c4b4ceaf0a"
      },
      "outputs": [
        {
          "output_type": "stream",
          "name": "stdout",
          "text": [
            "Collecting simpy\n",
            "  Downloading simpy-4.0.1-py2.py3-none-any.whl (29 kB)\n",
            "Installing collected packages: simpy\n",
            "Successfully installed simpy-4.0.1\n"
          ]
        }
      ],
      "source": [
        "!pip install simpy"
      ]
    },
    {
      "cell_type": "code",
      "source": [
        "hombres=['Hugo ',' Martín ',' Lucas ',' Mateo ',' Leo ',' Daniel ',' Alejandro ',' Pablo ',' Manuel',' Álvaro ',' Adrián ',' David ',' Mario ',' Enzo ',' Diego ',' Marcos ',' Izan',' Javier ',' Marco ',' Álex ',' Bruno ',' Oliver ',' Miguel ',' Thiago ',' Antonio ',' Marc ',' Carlos ',' Ángel ',' Juan ',' Gonzalo ',' Gael ',' Sergio ',' Nicolás ',' Dylan ',' Gabriel ',' Jorge ',' José ',' Adam ',' Liam ',' Eric ',' Samuel ',' Darío ',' Héctor ',' Luca ',' Iker ',' Amir ',' Rodrigo ',' Saúl ',' Víctor ',' Francisco ',' Iván ',' Jesús ',' Jaime ',' Aarón ',' Rubén ',' Ian ',' Guillermo ',' Erik ',' Mohamed ',' Julen ',' Luis ',' Pau ',' Unai ',' Rafael ',' Joel ',' Alberto ',' Pedro ',' Raúl ',' Aitor ',' Santiago ',' Rayan ',' Pol ',' Nil ',' Noah ',' Jan ',' Asier ',' Fernando ',' Alonso ',' Matías ',' Biel ',' Andrés ',' Axel ',' Ismael ',' Martí ',' Arnau ',' Imran ',' Luka ',' Ignacio ',' Aleix ',' Alan ',' Elías ',' Omar ',' Isaac ',' Youssef ',' Jon ',' Teo ',' Mauro ',' Óscar ',' Cristian ',' Leonardo ']\n",
        "mujeres=['Sofía',' Camila',' Valentina',' Isabella',' Valeria',' Daniela',' Mariana',' Sara',' Victoria',' Gabriela',' Ximena',' Andrea',' Natalia',' Mía',' Martina',' Lucía',' Samantha',' María',' María Fernanda',' Nicole',' Alejandra',' Paula',' Emily',' María José',' Fernanda',' Luciana',' Ana Sofía',' Melanie',' Regina',' Catalina',' Ashley',' Renata',' Agustina',' Abril',' Emma',' Emilia',' Jazmín',' Juanita',' Briana',' Vanessa',' Antonia',' Laura',' Antonella',' Luna',' Carla',' Allison',' Monserrat',' Paulin',' Isabel',' Juliana',' Valerie',' Florencia',' Adriana',' Naomí',' Amanda',' Ariana',' Morena',' Natalie',' Constanza',' Lola',' Zoe',' Carolina',' Micaela',' Julia',' Claudia',' Paola',' Alexa',' Elena',' Isidora',' Rebeca',' Josefina',' Abigail',' Julieta',' Melissa',' Michelle',' Alba',' María Camila',' Angela',' Delfina',' Aitana',' Stephanie',' Fátima',' Manuela',' Alexandra',' Paloma',' Candela',' Clara',' Laura Sofía',' Diana',' Ana María',' Guadalupe',' Bárbara',' Bianca',' Miranda',' Sabrina',' Pilar',' Ana María',' Marta',' Ana',' Génesis']\n",
        "\"\"\"\n",
        "hombres=['Hugo ',' Martín ',' Lucas ']\n",
        "mujeres=['Sofía',' Camila',' Valentina']\n",
        "\"\"\""
      ],
      "metadata": {
        "colab": {
          "base_uri": "https://localhost:8080/",
          "height": 35
        },
        "id": "y9yakhANEzrx",
        "outputId": "e176df2c-6978-43f6-dcc3-8e912ea8e728"
      },
      "execution_count": 2,
      "outputs": [
        {
          "output_type": "execute_result",
          "data": {
            "application/vnd.google.colaboratory.intrinsic+json": {
              "type": "string"
            },
            "text/plain": [
              "\"\\nhombres=['Hugo ',' Martín ',' Lucas ']\\nmujeres=['Sofía',' Camila',' Valentina']\\n\""
            ]
          },
          "metadata": {},
          "execution_count": 2
        }
      ]
    },
    {
      "cell_type": "markdown",
      "source": [
        "#i"
      ],
      "metadata": {
        "id": "TtFIOa8m3Jcy"
      }
    },
    {
      "cell_type": "code",
      "source": [
        "class SavePersons:\n",
        "    infos = []\n",
        "    persona = object\n",
        "    def __init__(self, name):\n",
        "        self.name = name\n",
        "    def add_person_dest(self, persona,destino):\n",
        "        self.infos.append(persona.name+ ' viaja a '+ destino)\n",
        "personas_destinos=SavePersons(\"not logic\")     \n",
        "\n",
        "\n",
        "class Persona:    \n",
        "    name = ''\n",
        "    edad = ''\n",
        "    genero = ''    \n",
        "    def __init__(self, nombre,edad,genero):\n",
        "        self.name = nombre\n",
        "        self.edad = edad\n",
        "        self.genero = genero\n",
        "\"\"\"\n",
        "p=Persona('pedro','23','M')\n",
        "print(p.name)\n",
        "personas_destinos.add_person_dest(p,'valle')\n",
        "print(personas_destinos.infos)\n",
        "\"\"\"        "
      ],
      "metadata": {
        "colab": {
          "base_uri": "https://localhost:8080/",
          "height": 35
        },
        "id": "K42NqZ48HlBz",
        "outputId": "fc7587d4-e01f-486b-94e3-00706766461f"
      },
      "execution_count": 3,
      "outputs": [
        {
          "output_type": "execute_result",
          "data": {
            "application/vnd.google.colaboratory.intrinsic+json": {
              "type": "string"
            },
            "text/plain": [
              "\"\\np=Persona('pedro','23','M')\\nprint(p.name)\\npersonas_destinos.add_person_dest(p,'valle')\\nprint(personas_destinos.infos)\\n\""
            ]
          },
          "metadata": {},
          "execution_count": 3
        }
      ]
    },
    {
      "cell_type": "code",
      "source": [
        "import matplotlib.pyplot as plt\n",
        "import numpy as np \n",
        "from scipy import stats \n",
        "import seaborn as sns \n",
        "\n",
        "def generarPersona():\n",
        "  bernoulli = stats.bernoulli(0.5)\n",
        "  val =  bernoulli.rvs(1)\n",
        "  genero = \"M\" if val else \"F\"\n",
        "  nombre= random.choice(hombres) if val else random.choice(mujeres)\n",
        "  mu = 28 # parametro de forma \n",
        "  poisson = stats.poisson(mu) # Distribución\n",
        "  edad = poisson.rvs(1)  # genera aleatorios\n",
        "\n",
        "  return Persona(nombre,edad,genero)\n",
        "\"\"\"\n",
        "pp=generarPersona()\n",
        "print(pp.name)\n",
        "print(pp.edad)\n",
        "print(pp.genero)\n",
        "\"\"\""
      ],
      "metadata": {
        "colab": {
          "base_uri": "https://localhost:8080/",
          "height": 35
        },
        "id": "ih7iDdOJLGMm",
        "outputId": "f65799be-82c2-450d-eb3c-40e3e2a85f8f"
      },
      "execution_count": 5,
      "outputs": [
        {
          "output_type": "execute_result",
          "data": {
            "application/vnd.google.colaboratory.intrinsic+json": {
              "type": "string"
            },
            "text/plain": [
              "'\\npp=generarPersona()\\nprint(pp.name)\\nprint(pp.edad)\\nprint(pp.genero)\\n'"
            ]
          },
          "metadata": {},
          "execution_count": 5
        }
      ]
    },
    {
      "cell_type": "code",
      "source": [
        "import collections\n",
        "import random\n",
        "import simpy\n",
        "\n",
        "\n",
        "NUM_PASJEROS = 40\n",
        "NUM_BUSES=10\n",
        "TIEMPO_SIMULACION = 120\n",
        "\n",
        "\n",
        "MEDIA=0.16\n",
        "DESV_S=0.03\n",
        "\n",
        "\n",
        "\n",
        "def run_transporte(env,empresaturismo,destino):  \n",
        "  with empresaturismo.resurso_buses.request() as peticion: # Genero un evento de requerimiento\n",
        "    yield peticion # Obtengo el recurso\n",
        "    #imprimir_datos_recurso_bus(resurso_buses) # Imprimo los datos del recuros obtenido\n",
        "    #print('Comienza viaje destino: %s tiempo en llegar %.1f horas' %(destino, empresaturismo.hours_desti[destino]))\n",
        "    yield env.timeout(empresaturismo.hours_desti[destino]) # Hago uso del bus en horas  ida y regreso\n",
        "    empresaturismo.resurso_buses.release(peticion) #Libero el bus luego de la ruta\n",
        "    #print('Termino el viaje hacia: %s tiempo empleado %.1f horas' %(destino, empresaturismo.hours_desti[destino]))\n",
        "    #print('Se libera el bus')\n",
        "\n",
        "def imprimir_datos_recurso_bus(rec):\n",
        "  print(f'{rec.count} de {rec.capacity}') \n",
        "  print(f' Usuarios que hacen uso: {rec.users}')\n",
        "  print(f' Evento de colas: {rec.queue}')    \n",
        "\n",
        "#esta es la venta como tal DE LOS PASAJES\n",
        "def ventaPasajes(env, num_pasajes, destino, empresaturismo):\n",
        "  with empresaturismo.recurso_cout_pasajes.request() as turno:\n",
        "    resultado = yield turno | empresaturismo.sold_out[destino]#creo que verifica si todavia hay pasajes \n",
        "    #if turno not in resultado:\n",
        "    #  empresaturismo.num_renegados[destino] += 1#\n",
        "    #  return\n",
        "    if empresaturismo.num_pasajes[destino] < num_pasajes:# si haun hay boletos se procede la compra \n",
        "      #yield env.timeout(0.5) #TIEMPO QUE TARDA EN LA COMPRA\n",
        "      return\n",
        "    empresaturismo.num_pasajes[destino] -= num_pasajes# decrementacion de los boletos\n",
        "    if empresaturismo.num_pasajes[destino] == 0:\n",
        "      #empresaturismo.sold_out[destino].succeed()\n",
        "      #empresaturismo.tiempo_agotado[destino] = env.now\n",
        "      empresaturismo.num_buses[destino]+=1  \n",
        "      env.process(run_transporte(env,empresaturismo,destino))    \n",
        "      empresaturismo.num_pasajes[destino] = 40\n",
        "    diccDestinosT[destino] +=1\n",
        "\n",
        "  \n",
        "    \n",
        "\n",
        "def llegadaPasajeros(env, empresaturismo):\n",
        "  while True:    \n",
        "    normal = stats.norm(MEDIA, DESV_S)\n",
        "    yield env.timeout(normal.rvs(1))#Estimado de llegada de pasajeros\n",
        "    destino = random.choice(empresaturismo.destinos)# cre que en este punto se decide que destino tomar\n",
        "    #print(pelicula)\n",
        "    num_pasajes = 1#el numero de boletos que va a comprar \n",
        "    #num_pasajes =random.randint(1, 6)\n",
        "    persona=generarPersona()#Operacion que genera la Persona\n",
        "    personas_destinos.add_person_dest(persona,destino)\n",
        "    #print(num_pasajes)\n",
        "    if empresaturismo.num_pasajes[destino]:# si todavia hay boletos\n",
        "      env.process(ventaPasajes(env, num_pasajes, destino, empresaturismo)) \n",
        "    \n",
        "    \n",
        "      \n",
        "Empresaturismo = collections.namedtuple('Empresaturismo', 'recurso_cout_pasajes,resurso_buses, hours_desti, destinos, num_pasajes, sold_out, num_buses')#, tiempo_agotado, num_renegados\n",
        "env = simpy.Environment()\n",
        "\n",
        "recurso_cout_pasajes = simpy.Resource(env,capacity=1)\n",
        "resurso_buses = simpy.Resource(env,capacity=NUM_BUSES)\n",
        "destinos = ['Guayaquil', 'Santa elena', 'Salinas','baños','montañita']\n",
        "horas_viaje = [2,5,7,9,6]\n",
        "hours_desti=dict(zip(destinos,horas_viaje))\n",
        "num_pasajes = {destino: NUM_PASJEROS for destino in destinos}#asignar pasajes a cada destino\n",
        "sold_out = {destino: env.event() for destino in destinos}# evento por cada destino\n",
        "#tiempo_agotado = {pelicula: None for pelicula in peliculas}#LISTAS VACIAS\n",
        "num_buses = {destino: 0 for destino in destinos}#VALORES INICIADOS EN CERO\n",
        "diccDestinosT = {destino: 0 for destino in destinos}#VALORES INICIADOS EN CERO\n",
        "\n",
        "empresaturismo = Empresaturismo(recurso_cout_pasajes, resurso_buses, hours_desti, destinos, num_pasajes, sold_out,num_buses)\n",
        "env.process(llegadaPasajeros(env, empresaturismo))\n",
        "env.run(until=TIEMPO_SIMULACION)#fuck time simulation, es decir los pasos que se van a tomar\n",
        "\n",
        "print('Empresa de turismo PATITO')\n",
        "for destino in destinos:\n",
        "  if empresaturismo.sold_out[destino]:       \n",
        "    print('Destino: %s necesita %.1f buses' %(destino, empresaturismo.num_buses[destino]))\n",
        "# Analisis y resultados        "
      ],
      "metadata": {
        "colab": {
          "base_uri": "https://localhost:8080/"
        },
        "id": "ZLZFl7M7ne6S",
        "outputId": "636c90d8-17f6-46b9-85c6-b3f521a40ab8"
      },
      "execution_count": 6,
      "outputs": [
        {
          "output_type": "stream",
          "name": "stdout",
          "text": [
            "Empresa de turismo PATITO\n",
            "Destino: Guayaquil necesita 3.0 buses\n",
            "Destino: Santa elena necesita 3.0 buses\n",
            "Destino: Salinas necesita 3.0 buses\n",
            "Destino: baños necesita 3.0 buses\n",
            "Destino: montañita necesita 3.0 buses\n"
          ]
        }
      ]
    },
    {
      "cell_type": "code",
      "source": [
        "plt.pie(list(diccDestinosT.values()), labels=list(diccDestinosT.keys()))\n",
        "plt.title('Numero de tikets vendidos por destino')\n",
        "plt.show()"
      ],
      "metadata": {
        "colab": {
          "base_uri": "https://localhost:8080/",
          "height": 264
        },
        "id": "Oq5zLeIx5xFa",
        "outputId": "b8725d3d-25fa-4290-efd3-edd4a928395e"
      },
      "execution_count": null,
      "outputs": [
        {
          "output_type": "display_data",
          "data": {
            "image/png": "[encoded data removed]",
            "text/plain": [
              "<Figure size 432x288 with 1 Axes>"
            ]
          },
          "metadata": {}
        }
      ]
    },
    {
      "cell_type": "code",
      "source": [
        "myList = diccDestinosT.items()\n",
        "myList = sorted(myList) \n",
        "x, y = zip(*myList) \n",
        "plt.plot(x, y)\n",
        "plt.title('Numero de tikets vendidos por destino')\n",
        "plt.xlabel('Destinos')\n",
        "plt.ylabel('Num tikets')\n",
        "plt.show()"
      ],
      "metadata": {
        "colab": {
          "base_uri": "https://localhost:8080/",
          "height": 295
        },
        "id": "R6-2eKUWuI0V",
        "outputId": "85468096-ad48-41d0-8b1e-60299db6849b"
      },
      "execution_count": null,
      "outputs": [
        {
          "output_type": "display_data",
          "data": {
            "image/png": "[encoded data removed]",
            "text/plain": [
              "<Figure size 432x288 with 1 Axes>"
            ]
          },
          "metadata": {
            "needs_background": "light"
          }
        }
      ]
    },
    {
      "cell_type": "code",
      "source": [
        "etiqueta = list(num_buses.keys())\n",
        "valores = list(num_buses.values())\n",
        "plt.bar(range(len(num_buses)), valores, align=\"center\", tick_label=etiqueta)\n",
        "plt.title(\"Numero de Buses usados para cada destino\")\n",
        "plt.xlabel(\"Destinos\")\n",
        "plt.ylabel(\"Nro. Buses\")\n",
        "plt.show()"
      ],
      "metadata": {
        "colab": {
          "base_uri": "https://localhost:8080/",
          "height": 295
        },
        "id": "5iL4zJ1c47IW",
        "outputId": "62c49956-a01a-4a9e-c78e-f0f24498b1ae"
      },
      "execution_count": null,
      "outputs": [
        {
          "output_type": "display_data",
          "data": {
            "image/png": "[encoded data removed]",
            "text/plain": [
              "<Figure size 432x288 with 1 Axes>"
            ]
          },
          "metadata": {
            "needs_background": "light"
          }
        }
      ]
    }
  ]
}